{
 "cells": [
  {
   "cell_type": "code",
   "execution_count": 2,
   "metadata": {},
   "outputs": [],
   "source": [
    "from deap import base, creator, tools\n",
    "import random\n",
    "import numpy as np\n",
    "from sklearn.linear_model import LinearRegression, LassoLarsIC, Lasso\n",
    "import pandas as pd"
   ]
  },
  {
   "cell_type": "code",
   "execution_count": 3,
   "metadata": {},
   "outputs": [
    {
     "data": {
      "text/plain": [
       "array([[3.17966504, 3.03062471, 3.22275227, ..., 3.70514307, 3.92179743,\n",
       "        3.5667659 ],\n",
       "       [3.31315547, 3.12753458, 3.36718872, ..., 3.00232446, 3.48703507,\n",
       "        3.75358101],\n",
       "       [3.5318474 , 3.55448902, 3.44163644, ..., 3.53159902, 3.77334177,\n",
       "        3.25474063],\n",
       "       ...,\n",
       "       [3.55076635, 3.48014853, 3.65358394, ..., 2.69928466, 0.9630304 ,\n",
       "        3.1252519 ],\n",
       "       [3.64113611, 3.67916051, 3.13758092, ..., 4.34764293, 3.85532063,\n",
       "        3.21161165],\n",
       "       [3.58635986, 2.83222446, 3.24274907, ..., 2.69928466, 0.73012916,\n",
       "        3.04170596]])"
      ]
     },
     "execution_count": 3,
     "metadata": {},
     "output_type": "execute_result"
    }
   ],
   "source": [
    "X = pd.read_csv('a1_data.csv') #names=['A','B','C','D','E','F','G','H','I','J','K']\n",
    "X = X.values\n",
    "X"
   ]
  },
  {
   "cell_type": "code",
   "execution_count": 4,
   "metadata": {},
   "outputs": [],
   "source": [
    "creator.create(\"FitnessMin\", base.Fitness, weights=(-1.0,))\n",
    "creator.create(\"Individual\", list, fitness=creator.FitnessMin)"
   ]
  },
  {
   "cell_type": "code",
   "execution_count": 5,
   "metadata": {},
   "outputs": [],
   "source": [
    "IND_SIZE = 10\n",
    "\n",
    "# TODO SEED\n",
    "\n",
    "toolbox = base.Toolbox()\n",
    "\n",
    "def sortnregress(X, alpha=0.01):\n",
    "    lasso = Lasso(alpha)\n",
    "\n",
    "    d = X.shape[1]\n",
    "    W = np.zeros((d, d))\n",
    "    increasing = np.argsort(np.var(X, axis=0))\n",
    "    for k in range(1, d):\n",
    "        covariates = increasing[:k]\n",
    "        target = increasing[k]\n",
    "        lasso.fit(X[:, covariates], X[:, target].ravel())\n",
    "        weight = np.abs(lasso.coef_)\n",
    "        W[covariates, target] = weight\n",
    "    return W\n",
    "\n",
    "def create_individual():\n",
    "    # TODO better alpha \n",
    "    return sortnregress(X, alpha=random.random()/10)\n",
    "\n",
    "# creating population\n",
    "toolbox.register(\"attribute\", create_individual)\n",
    "toolbox.register(\"individual\", tools.initRepeat, creator.Individual,\n",
    "                 toolbox.attribute, n=IND_SIZE)\n",
    "toolbox.register(\"population\", tools.initRepeat, list, toolbox.individual)\n"
   ]
  },
  {
   "cell_type": "code",
   "execution_count": 6,
   "metadata": {},
   "outputs": [],
   "source": [
    "# creating fitness function\n",
    "def evaluate(individual):\n",
    "    return sum(individual),\n",
    "\n",
    "def mate(ind1, ind2):\n",
    "    ind1 = np.array(ind1)\n",
    "    ind2 = np.array(ind2)\n",
    "\n",
    "    child1 = np.zeros(ind1.shape)\n",
    "    child2 = np.zeros(ind1.shape)\n",
    "\n",
    "    for (i, j), _ in np.ndenumerate(ind1):\n",
    "        # assuming as if 1/0 graph\n",
    "        # TODO check for values close to 0\n",
    "        if ind1[i,j] == 0 and ind2[i,j] == 0:\n",
    "            child1[i,j] = 0\n",
    "            child2[i,j] = 0\n",
    "        elif ind1[i,j] != 0 and ind2[i,j] != 0:\n",
    "            child1[i,j] = 1\n",
    "            child2[i,j] = 1\n",
    "        else:\n",
    "            child1[i,j] = random.randint()\n",
    "            child2[i,j] = random.randint()\n",
    "\n",
    "    # TODO regression for values\n",
    "\n",
    "    return child1, child2\n",
    "\n",
    "def mutate(ind):\n",
    "    # create list of indices of non-zero elements\n",
    "    ind = np.array(ind)\n",
    "    ind = ind.ravel()\n",
    "    non_zero = np.nonzero(ind)[0]\n",
    "    \n",
    "    # choose random index\n",
    "    index = random.choice(non_zero)\n",
    "\n",
    "    # mutate\n",
    "    ind[index] = 0\n",
    "\n",
    "    # TODO more complex mutation, adding edges?\n",
    "\n",
    "    return ind,\n",
    "\n",
    "def evaluate(ind):\n",
    "    # make sure the individual still fulfils the requirements of a DAG\n",
    "    # TODO\n",
    "\n",
    "    return ind,\n",
    "\n",
    "toolbox.register(\"mate\", mate)\n",
    "toolbox.register(\"mutate\", mutate)\n",
    "toolbox.register(\"select\", tools.selTournament, tournsize=3)\n",
    "toolbox.register(\"evaluate\", evaluate)"
   ]
  },
  {
   "cell_type": "code",
   "execution_count": 7,
   "metadata": {},
   "outputs": [],
   "source": [
    "# TODO this is just copied from the docs:\n",
    "def main():\n",
    "    pop = toolbox.population(n=50)\n",
    "    CXPB, MUTPB, NGEN = 0.5, 0.2, 40\n",
    "\n",
    "    # Evaluate the entire population\n",
    "    fitnesses = map(toolbox.evaluate, pop)\n",
    "    for ind, fit in zip(pop, fitnesses):\n",
    "        ind.fitness.values = fit\n",
    "\n",
    "    for g in range(NGEN):\n",
    "        # Select the next generation individuals\n",
    "        offspring = toolbox.select(pop, len(pop))\n",
    "        # Clone the selected individuals\n",
    "        offspring = map(toolbox.clone, offspring)\n",
    "\n",
    "        # Apply crossover and mutation on the offspring\n",
    "        for child1, child2 in zip(offspring[::2], offspring[1::2]):\n",
    "            if random.random() < CXPB:\n",
    "                toolbox.mate(child1, child2)\n",
    "                del child1.fitness.values\n",
    "                del child2.fitness.values\n",
    "\n",
    "        for mutant in offspring:\n",
    "            if random.random() < MUTPB:\n",
    "                toolbox.mutate(mutant)\n",
    "                del mutant.fitness.values\n",
    "\n",
    "        # Evaluate the individuals with an invalid fitness\n",
    "        invalid_ind = [ind for ind in offspring if not ind.fitness.valid]\n",
    "        fitnesses = map(toolbox.evaluate, invalid_ind)\n",
    "        for ind, fit in zip(invalid_ind, fitnesses):\n",
    "            ind.fitness.values = fit\n",
    "\n",
    "        # The population is entirely replaced by the offspring\n",
    "        pop[:] = offspring\n",
    "\n",
    "    return pop"
   ]
  }
 ],
 "metadata": {
  "kernelspec": {
   "display_name": "compstats-env",
   "language": "python",
   "name": "python3"
  },
  "language_info": {
   "codemirror_mode": {
    "name": "ipython",
    "version": 3
   },
   "file_extension": ".py",
   "mimetype": "text/x-python",
   "name": "python",
   "nbconvert_exporter": "python",
   "pygments_lexer": "ipython3",
   "version": "3.10.9"
  },
  "orig_nbformat": 4,
  "vscode": {
   "interpreter": {
    "hash": "44908055140f45641c49a851a72d2bd68ea3e181dfce159b23954db96a22beb3"
   }
  }
 },
 "nbformat": 4,
 "nbformat_minor": 2
}
