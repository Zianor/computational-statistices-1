{
 "cells": [
  {
   "cell_type": "code",
   "execution_count": 1,
   "metadata": {},
   "outputs": [],
   "source": [
    "from deap import base, creator, tools\n",
    "import random\n",
    "import numpy as np\n",
    "from sklearn.linear_model import LinearRegression, LassoLarsIC, Lasso\n",
    "import pandas as pd"
   ]
  },
  {
   "cell_type": "code",
   "execution_count": 2,
   "metadata": {},
   "outputs": [
    {
     "data": {
      "text/plain": [
       "array([[3.17966504, 3.03062471, 3.22275227, ..., 3.70514307, 3.92179743,\n",
       "        3.5667659 ],\n",
       "       [3.31315547, 3.12753458, 3.36718872, ..., 3.00232446, 3.48703507,\n",
       "        3.75358101],\n",
       "       [3.5318474 , 3.55448902, 3.44163644, ..., 3.53159902, 3.77334177,\n",
       "        3.25474063],\n",
       "       ...,\n",
       "       [3.55076635, 3.48014853, 3.65358394, ..., 2.69928466, 0.9630304 ,\n",
       "        3.1252519 ],\n",
       "       [3.64113611, 3.67916051, 3.13758092, ..., 4.34764293, 3.85532063,\n",
       "        3.21161165],\n",
       "       [3.58635986, 2.83222446, 3.24274907, ..., 2.69928466, 0.73012916,\n",
       "        3.04170596]])"
      ]
     },
     "execution_count": 2,
     "metadata": {},
     "output_type": "execute_result"
    }
   ],
   "source": [
    "from algorithm.genetic_algorithm import read_data\n",
    "X = read_data()\n",
    "X"
   ]
  },
  {
   "cell_type": "code",
   "execution_count": 3,
   "metadata": {},
   "outputs": [],
   "source": [
    "from algorithm.genetic_algorithm import create_individual, evaluate, mate, mutate\n",
    "\n",
    "IND_SIZE = 1\n",
    "\n",
    "# TODO SEED\n",
    "\n",
    "# minimize fitness  \n",
    "creator.create(\"FitnessMin\", base.Fitness, weights=(-1.0,))\n",
    "\n",
    "# 2d list to represent DAG\n",
    "creator.create(\"Individual\", list, fitness=creator.FitnessMin)\n",
    "\n",
    "toolbox = base.Toolbox()\n",
    "\n",
    "# creating population\n",
    "toolbox.register(\"attribute\", create_individual, X)\n",
    "toolbox.register(\"individual\", tools.initRepeat, creator.Individual,\n",
    "                 toolbox.attribute, n=IND_SIZE)\n",
    "toolbox.register(\"population\", tools.initRepeat, list, toolbox.individual)\n",
    "\n",
    "# mate, mutate, select and evaluate functions\n",
    "toolbox.register(\"mate\", mate)\n",
    "toolbox.register(\"mutate\", mutate)\n",
    "toolbox.register(\"select\", tools.selTournament, tournsize=3)  # TODO: look into selection functions\n",
    "toolbox.register(\"evaluate\", evaluate)\n",
    "\n"
   ]
  },
  {
   "cell_type": "code",
   "execution_count": 4,
   "metadata": {},
   "outputs": [],
   "source": [
    "# TODO this is just copied from the docs:\n",
    "def main():\n",
    "    pop = toolbox.population(n=50)\n",
    "    CXPB, MUTPB, NGEN = 0.5, 0.2, 40\n",
    "\n",
    "    # Evaluate the entire population\n",
    "    fitnesses = map(toolbox.evaluate, pop)\n",
    "    for ind, fit in zip(pop, fitnesses):\n",
    "        ind.fitness.values = fit\n",
    "\n",
    "    for g in range(NGEN):\n",
    "        # Select the next generation individuals\n",
    "        offspring = toolbox.select(pop, len(pop))\n",
    "        # Clone the selected individuals\n",
    "        offspring = map(toolbox.clone, offspring)\n",
    "\n",
    "        # Apply crossover and mutation on the offspring\n",
    "        for child1, child2 in zip(offspring[::2], offspring[1::2]):\n",
    "            if random.random() < CXPB:\n",
    "                toolbox.mate(child1, child2)\n",
    "                del child1.fitness.values\n",
    "                del child2.fitness.values\n",
    "\n",
    "        for mutant in offspring:\n",
    "            if random.random() < MUTPB:\n",
    "                toolbox.mutate(mutant)\n",
    "                del mutant.fitness.values\n",
    "\n",
    "        # Evaluate the individuals with an invalid fitness\n",
    "        invalid_ind = [ind for ind in offspring if not ind.fitness.valid]\n",
    "        fitnesses = map(toolbox.evaluate, invalid_ind)\n",
    "        for ind, fit in zip(invalid_ind, fitnesses):\n",
    "            ind.fitness.values = fit\n",
    "\n",
    "        # The population is entirely replaced by the offspring\n",
    "        pop[:] = offspring\n",
    "\n",
    "    return pop"
   ]
  },
  {
   "cell_type": "code",
   "execution_count": 5,
   "metadata": {},
   "outputs": [
    {
     "name": "stdout",
     "output_type": "stream",
     "text": [
      "[1 0]\n",
      "(11672, 2)\n"
     ]
    },
    {
     "ename": "IndexError",
     "evalue": "boolean index did not match indexed array along dimension 0; dimension is 1 but corresponding boolean dimension is 11",
     "output_type": "error",
     "traceback": [
      "\u001b[0;31m---------------------------------------------------------------------------\u001b[0m",
      "\u001b[0;31mIndexError\u001b[0m                                Traceback (most recent call last)",
      "Cell \u001b[0;32mIn[5], line 1\u001b[0m\n\u001b[0;32m----> 1\u001b[0m pop \u001b[39m=\u001b[39m main()\n",
      "Cell \u001b[0;32mIn[4], line 8\u001b[0m, in \u001b[0;36mmain\u001b[0;34m()\u001b[0m\n\u001b[1;32m      6\u001b[0m \u001b[39m# Evaluate the entire population\u001b[39;00m\n\u001b[1;32m      7\u001b[0m fitnesses \u001b[39m=\u001b[39m \u001b[39mmap\u001b[39m(toolbox\u001b[39m.\u001b[39mevaluate, pop)\n\u001b[0;32m----> 8\u001b[0m \u001b[39mfor\u001b[39;00m ind, fit \u001b[39min\u001b[39;00m \u001b[39mzip\u001b[39m(pop, fitnesses):\n\u001b[1;32m      9\u001b[0m     ind\u001b[39m.\u001b[39mfitness\u001b[39m.\u001b[39mvalues \u001b[39m=\u001b[39m fit\n\u001b[1;32m     11\u001b[0m \u001b[39mfor\u001b[39;00m g \u001b[39min\u001b[39;00m \u001b[39mrange\u001b[39m(NGEN):\n\u001b[1;32m     12\u001b[0m     \u001b[39m# Select the next generation individuals\u001b[39;00m\n",
      "File \u001b[0;32m~/Documents/repos/computational-statistics-1/algorithm/genetic_algorithm.py:60\u001b[0m, in \u001b[0;36mevaluate\u001b[0;34m(individual)\u001b[0m\n\u001b[1;32m     57\u001b[0m \u001b[39mdef\u001b[39;00m \u001b[39mevaluate\u001b[39m(individual):\n\u001b[1;32m     58\u001b[0m \u001b[39m    \u001b[39m\u001b[39m\"\"\"Fitness function\u001b[39;00m\n\u001b[1;32m     59\u001b[0m \u001b[39m    \"\"\"\u001b[39;00m\n\u001b[0;32m---> 60\u001b[0m     W \u001b[39m=\u001b[39m fit_nodes(individual)\n\u001b[1;32m     61\u001b[0m     X \u001b[39m=\u001b[39m read_data()\n\u001b[1;32m     62\u001b[0m     \u001b[39m# TODO: implement fitness function\u001b[39;00m\n\u001b[1;32m     63\u001b[0m     \u001b[39m# make sure the individual still fulfils the requirements of a DAG\u001b[39;00m\n\u001b[1;32m     64\u001b[0m     \u001b[39m# TODO: normally returns two nodes\u001b[39;00m\n",
      "File \u001b[0;32m~/Documents/repos/computational-statistics-1/algorithm/genetic_algorithm.py:47\u001b[0m, in \u001b[0;36mfit_nodes\u001b[0;34m(ind)\u001b[0m\n\u001b[1;32m     45\u001b[0m         \u001b[39mprint\u001b[39m(incoming_values\u001b[39m.\u001b[39mshape)\n\u001b[1;32m     46\u001b[0m         lr\u001b[39m.\u001b[39mfit(incoming_values, X[:, node]\u001b[39m.\u001b[39mravel())\n\u001b[0;32m---> 47\u001b[0m         edges_with_weights[(incoming_edges\u001b[39m!=\u001b[39;49m\u001b[39m0\u001b[39;49m)\u001b[39m.\u001b[39;49mravel(), node] \u001b[39m=\u001b[39m lr\u001b[39m.\u001b[39mcoef_\n\u001b[1;32m     48\u001b[0m \u001b[39mreturn\u001b[39;00m edges_with_weights\u001b[39m.\u001b[39mtolist()\n",
      "\u001b[0;31mIndexError\u001b[0m: boolean index did not match indexed array along dimension 0; dimension is 1 but corresponding boolean dimension is 11"
     ]
    }
   ],
   "source": [
    "pop = main()"
   ]
  }
 ],
 "metadata": {
  "kernelspec": {
   "display_name": "venv",
   "language": "python",
   "name": "python3"
  },
  "language_info": {
   "codemirror_mode": {
    "name": "ipython",
    "version": 3
   },
   "file_extension": ".py",
   "mimetype": "text/x-python",
   "name": "python",
   "nbconvert_exporter": "python",
   "pygments_lexer": "ipython3",
   "version": "3.9.6"
  },
  "orig_nbformat": 4,
  "vscode": {
   "interpreter": {
    "hash": "8e3472ded7eca692aa4c6d064766da08e92c3621590b8bbfebf976ccc333778f"
   }
  }
 },
 "nbformat": 4,
 "nbformat_minor": 2
}
